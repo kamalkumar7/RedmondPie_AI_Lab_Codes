{
 "cells": [
  {
   "cell_type": "markdown",
   "metadata": {
    "id": "57Ju1XXM8kb-"
   },
   "source": [
    "# Hopfield Network for error detection in patterns"
   ]
  },
  {
   "cell_type": "code",
   "execution_count": null,
   "metadata": {
    "id": "BGBXD9j37sTY"
   },
   "outputs": [],
   "source": [
    "from imageio import imread\n",
    "import numpy as np\n",
    "import matplotlib.pyplot as plt\n",
    "import copy\n",
    "from skimage import data, io, filters\n",
    "from PIL import Image\n",
    "from skimage.transform import resize\n",
    "import random\n",
    "%matplotlib inline"
   ]
  },
  {
   "cell_type": "code",
   "execution_count": null,
   "metadata": {
    "id": "WkBf4C5J9YrF"
   },
   "outputs": [],
   "source": [
    "def IsScalar(x):\n",
    "    if type(x) in (list, np.ndarray,):\n",
    "        return False\n",
    "    else:\n",
    "        return True\n",
    "\n",
    "def get_route_indices(v):\n",
    "    indices = []\n",
    "    for j in range(v.shape[1]):\n",
    "        indices.append(np.argmax(v[:, j]))\n",
    "    indices.append(np.argmax(v[:, 0]))\n",
    "    return indices\n",
    "    \n",
    "def total_distance(v):\n",
    "    city_x_final = np.zeros((N+1))\n",
    "    city_y_final = np.zeros((N+1))\n",
    "\n",
    "    for j in range(N):\n",
    "        for i in range(N):\n",
    "            if v[i,j] == 1:\n",
    "                city_x_final[j] = city_x[i]\n",
    "                city_y_final[j] = city_y[i]\n",
    "\n",
    "    city_x_final[N] = city_x_final[0]\n",
    "    city_y_final[N] = city_y_final[0]\n",
    "\n",
    "    td = 0\n",
    "    \n",
    "    for i in range(N-1):\n",
    "        td += np.sqrt((city_x_final[i] - city_x_final[i+1])**2\n",
    "                    + (city_y_final[i] - city_y_final[i+1])**2)\n",
    "    \n",
    "    td += np.sqrt((city_x_final[N-1] - city_x_final[0])**2\n",
    "                + (city_y_final[N-1] - city_y_final[0])**2)\n",
    "    \n",
    "    return(td, city_x_final, city_y_final)\n",
    "\n",
    "def Thresh(x):\n",
    "    if IsScalar(x):\n",
    "        val = 1 if x>0 else -1\n",
    "    else:\n",
    "        val = np.ones_like(x)\n",
    "        val[x<0] = -1.\n",
    "    return val\n",
    "\n",
    "def Hamming(x, y):\n",
    "    d = []\n",
    "    for xx, yy in zip(x,y):\n",
    "        dd = 0.\n",
    "        for xxx,yyy in zip(xx,yy):\n",
    "            if xxx==1 and yyy!=1:\n",
    "                dd += 1.\n",
    "            elif yyy==1 and xxx!=1:\n",
    "                dd += 1.\n",
    "        d.append(dd)\n",
    "    return d\n",
    "\n",
    "def Perturb(x, p=0.1):\n",
    "    y = copy.deepcopy(x)\n",
    "    for yy in y:\n",
    "        for k in range(len(yy)):\n",
    "            if np.random.rand()<p:\n",
    "                yy[k] = Thresh(np.random.randint(2)*2-1)\n",
    "    return y\n",
    "\n",
    "def Update(W, x, b):\n",
    "    xnew = x @ W - b\n",
    "    return Thresh(xnew)\n",
    "\n",
    "def get_route(v):\n",
    "    route = \"\"\n",
    "    for j in range(v.shape[1]):\n",
    "        route += str(np.argmax(v[:, j])) + ' -> '\n",
    "    return (route + str(np.argmax(v[:, 0])))\n",
    "\n",
    "def hopfield():\n",
    "    u0 = 0.02\n",
    "    toend = 0\n",
    "    udao = np.zeros((N, N))\n",
    "    ctr = 0\n",
    "    while toend == 0:\n",
    "        ctr += 1\n",
    "        v = np.random.rand(N,N)\n",
    "        u = np.ones([N, N])*(-u0*np.log(N-1)/2)\n",
    "\n",
    "        u += u*0.91 \n",
    "        \n",
    "        for _ in range(100000):\n",
    "            for vx in range(N):\n",
    "                for vi in range(N):\n",
    "                    j1, j2, j3, j4 = 0, 0, 0, 0\n",
    "                    \n",
    "                    for j in range(N):\n",
    "                        if j != vi:\n",
    "                            j1 += v[vx, j]\n",
    "                    j1 *= -A\n",
    "\n",
    "                    for y in range(N):\n",
    "                        if y != vx:\n",
    "                            j2 += v[y, vi]\n",
    "                    j2 *= -B\n",
    "\n",
    "                    j3 = np.sum(v)\n",
    "                    j3 = -C*(j3-N)\n",
    "\n",
    "                    for y in range(N):\n",
    "                        if y != vx:\n",
    "                            if vi == 0:\n",
    "                                j4 += d[vx, y]*(v[y, vi+1]+v[y, N-1])\n",
    "                            elif vi == N-1:\n",
    "                                j4 += d[vx, y]*(v[y, vi-1]+v[y, 0])\n",
    "                            else:\n",
    "                                j4 += d[vx, y]*(v[y, vi+1]+v[y, vi-1])\n",
    "                    j4 *= -D\n",
    "                    udao[vx, vi] = -u[vx, vi]+j1+j2+j3+j4\n",
    "\n",
    "            u = u + alpha*udao\n",
    "            v = (1+np.tanh(u/u0)) / 2\n",
    "         \n",
    "            for vx in range(N):\n",
    "                for vi in range(N):\n",
    "                    if(v[vx, vi] < 0.7):\n",
    "                        v[vx, vi] = 0\n",
    "                    if(v[vx, vi] >= 0.7):\n",
    "                        v[vx, vi]=1\n",
    "            \n",
    "        t1, t2, t3 = 0, 0, 0\n",
    "        \n",
    "        for vx in range(N):\n",
    "            for vi in range(N):\n",
    "                t1+=v[vx, vi]\n",
    "\n",
    "        t2=0\n",
    "        \n",
    "        for x in range(N):\n",
    "            for i in range(N-1):\n",
    "                for j in range(i+1, N):\n",
    "                    t2+=np.multiply(v[x, i], v[x, j])\n",
    "\n",
    "        t3=0\n",
    "        \n",
    "        for i in range(N):\n",
    "            for x in range(N-1):\n",
    "                for y in range(x+1, N):\n",
    "                    t3+=np.multiply(v[x, i], v[y, i])\n",
    "\n",
    "        if t1 == N and t2 == 0 and t3 == 0:\n",
    "            toend = 1\n",
    "        else:\n",
    "            toend = 0\n",
    "\n",
    "    return(v, ctr)"
   ]
  },
  {
   "cell_type": "code",
   "execution_count": null,
   "metadata": {
    "id": "9iZc9drw77kC"
   },
   "outputs": [],
   "source": [
    "letters = []\n",
    "letters.append(imread('A.png'))\n",
    "letters.append(imread('B.png'))\n",
    "letters.append(imread('C.png'))\n",
    "letters.append(imread('D.png'))\n",
    "\n",
    "n = len(letters)\n",
    "N = len(letters[0].flatten())\n",
    "X = np.zeros((n, N))\n",
    "\n",
    "for idx,img in enumerate(letters):\n",
    "    X[idx,:] = Thresh(np.array([img.flatten()-0.5]))"
   ]
  },
  {
   "cell_type": "code",
   "execution_count": null,
   "metadata": {
    "colab": {
     "base_uri": "https://localhost:8080/",
     "height": 225
    },
    "id": "O9czm-G19lh9",
    "outputId": "03bfcec0-6bf2-4036-ba37-0913315bcc1e"
   },
   "outputs": [],
   "source": [
    "plt.figure(figsize=(16,4))\n",
    "\n",
    "for k in range(n):\n",
    "    plt.subplot(1,n,k+1);\n",
    "    plt.imshow(np.reshape(X[k], (6,6)), cmap='tab20c_r'); plt.axis('off');"
   ]
  },
  {
   "cell_type": "code",
   "execution_count": null,
   "metadata": {
    "id": "YmQZN9rq9wJm"
   },
   "outputs": [],
   "source": [
    "b = np.zeros((1,N))\n",
    "b = np.sum(X, axis=0) / n\n",
    "W = ( X.T @ X ) / n - np.eye(N)\n",
    "W0 = copy.deepcopy(W)"
   ]
  },
  {
   "cell_type": "code",
   "execution_count": null,
   "metadata": {
    "colab": {
     "base_uri": "https://localhost:8080/",
     "height": 265
    },
    "id": "JJyZAcT89y53",
    "outputId": "90121b12-2e36-4bb7-d87c-c8211cc3c405"
   },
   "outputs": [],
   "source": [
    "k = np.random.randint(n)\n",
    "Y = Perturb(X , p=0.2)\n",
    "x = Y[k:k+1,]\n",
    "x[0,24:] = -1.\n",
    "err = Hamming(x, X[k:k+1,:])\n",
    "print('Class '+str(k)+' with '+str(err)+' errors')\n",
    "x_orig = copy.deepcopy(x)\n",
    "plt.imshow(np.reshape(x,[6,6]), cmap='tab20c_r'); plt.axis('off');"
   ]
  },
  {
   "cell_type": "code",
   "execution_count": null,
   "metadata": {
    "id": "hJIBUpTa9441"
   },
   "outputs": [],
   "source": [
    "xs = copy.deepcopy(x_orig)\n",
    "xa = copy.deepcopy(x)\n",
    "n_iters = 2"
   ]
  },
  {
   "cell_type": "code",
   "execution_count": null,
   "metadata": {},
   "outputs": [],
   "source": [
    "for idx in range(n_iters):\n",
    "    xs = Update(W, xs, b)"
   ]
  },
  {
   "cell_type": "code",
   "execution_count": null,
   "metadata": {
    "id": "RyZ4gK84-M64"
   },
   "outputs": [],
   "source": [
    "n_iters = 10"
   ]
  },
  {
   "cell_type": "code",
   "execution_count": null,
   "metadata": {},
   "outputs": [],
   "source": [
    "for count in range(n_iters):\n",
    "    node_idx = list(range(N))\n",
    "    np.random.shuffle(node_idx)\n",
    "    for idx in node_idx:\n",
    "        ic = xa@W[:,idx] - b[idx]\n",
    "        xa[0,idx] = Thresh(ic)"
   ]
  },
  {
   "cell_type": "code",
   "execution_count": null,
   "metadata": {},
   "outputs": [],
   "source": [
    "print('Correct class is '+str(k))"
   ]
  },
  {
   "cell_type": "code",
   "execution_count": null,
   "metadata": {},
   "outputs": [],
   "source": [
    "print('Synchronous updating')\n",
    "for idx,t in enumerate(X):\n",
    "    ds = Hamming(xs, [t])[0]\n",
    "    print('Memory '+str(idx)+' has error '+str(ds))"
   ]
  },
  {
   "cell_type": "code",
   "execution_count": null,
   "metadata": {
    "colab": {
     "base_uri": "https://localhost:8080/"
    },
    "id": "-sSATXs2-Pqr",
    "outputId": "e2775d47-a3e9-4730-debc-2c09458347a0"
   },
   "outputs": [],
   "source": [
    "print('Asynchronous updating')\n",
    "for idx,t in enumerate(X):\n",
    "    da = Hamming(xa, [t])[0]\n",
    "    print('Memory '+str(idx)+' has error '+str(da))"
   ]
  },
  {
   "cell_type": "code",
   "execution_count": null,
   "metadata": {
    "colab": {
     "base_uri": "https://localhost:8080/",
     "height": 199
    },
    "id": "cIbZNAQz-T5z",
    "outputId": "981cf991-b2be-4c6a-e1af-bef1bfe3b472"
   },
   "outputs": [],
   "source": [
    "plt.subplot(1,2,1); plt.imshow(np.reshape(xs,[6,6]), cmap='tab20c_r'); plt.title('Synchronous'); plt.axis('off')"
   ]
  },
  {
   "cell_type": "code",
   "execution_count": null,
   "metadata": {},
   "outputs": [],
   "source": [
    "plt.subplot(1,2,2); plt.imshow(np.reshape(xa,[6,6]), cmap='tab20c_r'); plt.title('Asynchronous'); plt.axis('off')"
   ]
  },
  {
   "cell_type": "markdown",
   "metadata": {
    "id": "HgfNd8fE8NBo"
   },
   "source": [
    "# **Traveling** **Salesman** **Problem**\n"
   ]
  },
  {
   "cell_type": "code",
   "execution_count": null,
   "metadata": {
    "colab": {
     "base_uri": "https://localhost:8080/"
    },
    "id": "5ubf3kr4z4lO",
    "outputId": "683e1fe8-1f35-4c5c-8e4f-12335f574669"
   },
   "outputs": [],
   "source": [
    "N = 10\n",
    "\n",
    "city_x = np.random.rand((10))\n",
    "city_y = np.random.rand((10))"
   ]
  },
  {
   "cell_type": "code",
   "execution_count": null,
   "metadata": {},
   "outputs": [],
   "source": [
    "print('The co-ordinates of the 10 cities are:')\n",
    "for city in zip(city_x, city_y):\n",
    "    print(city)"
   ]
  },
  {
   "cell_type": "code",
   "execution_count": null,
   "metadata": {
    "colab": {
     "base_uri": "https://localhost:8080/",
     "height": 298
    },
    "id": "NqepsGcyz5xD",
    "outputId": "8a275dec-1e74-4216-9788-3a78176b2511"
   },
   "outputs": [],
   "source": [
    "plt.plot(city_x, city_y, 'o')\n",
    "plt.title('Map of cities')"
   ]
  },
  {
   "cell_type": "code",
   "execution_count": null,
   "metadata": {
    "colab": {
     "base_uri": "https://localhost:8080/"
    },
    "id": "9XAvoyJIz8_s",
    "outputId": "207d7bf0-94f3-4f3d-a974-8d32230d9e66"
   },
   "outputs": [],
   "source": [
    "d = np.zeros((N,N))\n",
    "\n",
    "for i in range(N):\n",
    "    for j in range(N):\n",
    "        d[i, j] = np.sqrt((city_x[i] - city_x[j])**2 + (city_y[i] - city_y[j])**2)"
   ]
  },
  {
   "cell_type": "code",
   "execution_count": null,
   "metadata": {},
   "outputs": [],
   "source": [
    "print(d)"
   ]
  },
  {
   "cell_type": "code",
   "execution_count": null,
   "metadata": {
    "id": "o3bhLPd20HUv"
   },
   "outputs": [],
   "source": [
    "A = 500 \n",
    "B = 500 \n",
    "C = 1000\n",
    "D = 500\n",
    "alpha = 0.0001"
   ]
  },
  {
   "cell_type": "code",
   "execution_count": null,
   "metadata": {
    "colab": {
     "base_uri": "https://localhost:8080/"
    },
    "id": "mWFvApdC0Nqx",
    "outputId": "45fa1a80-ac5d-4c21-eac7-499cd492e08d"
   },
   "outputs": [],
   "source": [
    "v = np.zeros([N,N])\n",
    "\n",
    "ct = 0\n",
    "\n",
    "min_dist = 20\n",
    "best_path = None\n",
    "\n",
    "for i in range(10):\n",
    "    v, steps = hopfield()\n",
    "    td, _, _ = total_distance(v)\n",
    "    print(f\"Epoch {i}: Ran for {steps} steps, total distance {td}\")\n",
    "    if td < min_dist:\n",
    "        min_dist = td\n",
    "        best_path = v"
   ]
  },
  {
   "cell_type": "code",
   "execution_count": null,
   "metadata": {},
   "outputs": [],
   "source": [
    "print(min_dist)"
   ]
  },
  {
   "cell_type": "code",
   "execution_count": null,
   "metadata": {},
   "outputs": [],
   "source": [
    "print(best_path)"
   ]
  },
  {
   "cell_type": "code",
   "execution_count": null,
   "metadata": {
    "colab": {
     "base_uri": "https://localhost:8080/"
    },
    "id": "P1OdDllE0UkA",
    "outputId": "5f71ed65-d489-49d6-fd12-3870d1701bb3"
   },
   "outputs": [],
   "source": [
    "print(get_route(best_path))"
   ]
  },
  {
   "cell_type": "code",
   "execution_count": null,
   "metadata": {
    "colab": {
     "base_uri": "https://localhost:8080/"
    },
    "id": "Ttt0LFEy0Yd-",
    "outputId": "36c96389-2032-4268-c132-e39c6f6641ca"
   },
   "outputs": [],
   "source": [
    "indices = get_route_indices(best_path)\n",
    "print(indices)"
   ]
  },
  {
   "cell_type": "code",
   "execution_count": null,
   "metadata": {
    "colab": {
     "base_uri": "https://localhost:8080/",
     "height": 265
    },
    "id": "4neBJ1x_0bru",
    "outputId": "f3155b0d-c86f-4af2-a90a-449506f3f6f0"
   },
   "outputs": [],
   "source": [
    "for i in indices[1:]:\n",
    "    plt.plot([city_x[i], city_x[i-1]], [city_y[i], city_y[i-1]], '-')\n",
    "plt.show()"
   ]
  }
 ],
 "metadata": {
  "colab": {
   "provenance": []
  },
  "kernelspec": {
   "display_name": "Python 3 (ipykernel)",
   "language": "python",
   "name": "python3"
  },
  "language_info": {
   "codemirror_mode": {
    "name": "ipython",
    "version": 3
   },
   "file_extension": ".py",
   "mimetype": "text/x-python",
   "name": "python",
   "nbconvert_exporter": "python",
   "pygments_lexer": "ipython3",
   "version": "3.10.5"
  }
 },
 "nbformat": 4,
 "nbformat_minor": 1
}
