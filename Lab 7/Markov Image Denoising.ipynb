{
 "cells": [
  {
   "cell_type": "markdown",
   "metadata": {
    "id": "79ChmjKXEz8w"
   },
   "source": [
    "## Imports"
   ]
  },
  {
   "cell_type": "code",
   "execution_count": null,
   "metadata": {
    "id": "yjWF9z7EEsOK"
   },
   "outputs": [],
   "source": [
    "import random\n",
    "%matplotlib inline\n",
    "import cv2\n",
    "import torch\n",
    "import numpy as np\n",
    "from PIL import Image\n",
    "from skimage.transform import resize\n",
    "from matplotlib import pyplot as plt\n",
    "from torchvision.transforms import ToTensor\n",
    "from torch.optim import RMSprop\n",
    "from skimage import data, io, filters\n",
    "from scipy.stats.kde import gaussian_kde\n",
    "import matplotlib.pyplot as plt"
   ]
  },
  {
   "cell_type": "code",
   "execution_count": null,
   "metadata": {},
   "outputs": [],
   "source": [
    "def mrf_prior(x):\n",
    "    return x**2\n",
    "\n",
    "def denoise(noisy_img):\n",
    "    M, N = noisy_img.shape\n",
    "    y = noisy_img.copy()\n",
    "    maxiter = 5*M*N\n",
    "\n",
    "    for iter in range(maxiter):\n",
    "        i = np.random.randint(M)\n",
    "        j = np.random.randint(N)\n",
    "        neighbours = get_neighbours(i, j, M, N)\n",
    "\n",
    "        enrg_1 = enrg(1, y[i, j], y, neighbours)\n",
    "        enrg_0 = enrg(0, y[i, j], y, neighbours)\n",
    "\n",
    "        if enrg_1 > enrg_0:\n",
    "            y[i, j] = 1\n",
    "        else:\n",
    "            y[i, j] = 0\n",
    "        \n",
    "        if iter % 100000 == 0:\n",
    "            print (f'Completed {iter} iterations out of {maxiter}. Denoized pixels are: {diff(y, noisy_img)}%')\n",
    "\n",
    "    return y\n",
    "\n",
    "def diff(y, y_old):\n",
    "    diff = abs(y - y_old) / 2\n",
    "    return (100.0 * np.sum(diff)) / np.size(y)\n",
    "\n",
    "def enrg(new, old, y, neighbours):\n",
    "    lmda = -100\n",
    "    return (new - old)**2 + lmda * np.sum((new - y[neighbour[0], neighbour[1]])**2 for neighbour in neighbours)\n",
    "\n",
    "def get_neighbours(i, j, M, N):\n",
    "    neighbours = []\n",
    "    if i > 0:\n",
    "        neighbours.append([i-1, j])\n",
    "    if i < M-1:\n",
    "        neighbours.append([i+1, j])\n",
    "    if j > 0:\n",
    "        neighbours.append([i, j-1])\n",
    "    if j < N-1:\n",
    "        neighbours.append([i, j+1])\n",
    "\n",
    "    return neighbours\n",
    "\n",
    "def mrf_potential(X, noisy, a):\n",
    "    \n",
    "    energy_1 = ((noisy - X)**2).sum()\n",
    "    \n",
    "    energy_2 = 0\n",
    "    energy_2 += mrf_prior(X[:, 1: ] - X[:, :-1]).sum()\n",
    "    energy_2 += mrf_prior(X[:-1, :] - X[ 1:, :]).sum()\n",
    "    energy_2 += mrf_prior(X[:-1,:-1] - X[1:, 1:]).sum()\n",
    "    energy_2 += mrf_prior(X[1:, :-1] - X[ :-1, 1:]).sum()\n",
    "    \n",
    "    return energy_1 + a*energy_2*2\n",
    "\n",
    "def add_noise(orig_img, thresh):\n",
    "\n",
    "    N, M = orig_img.shape\n",
    "    noisy_img = orig_img.copy()\n",
    "    Gaussian_noise = np.random.rand(N, M)\n",
    "    Gaussian_noise[Gaussian_noise < 1-thresh] = 0\n",
    "    Gaussian_noise[Gaussian_noise >= 1-thresh] = 1\n",
    "\n",
    "    noisy_img = (noisy_img + Gaussian_noise) % 2\n",
    "    \n",
    "    return noisy_img\n",
    "\n",
    "def binarize_img(im):\n",
    "    bin_im = im / 255.\n",
    "    bin_im.flags.writeable = True\n",
    "    bin_im[bin_im < 0.5] = 0\n",
    "    bin_im[bin_im >= 0.5] = 1\n",
    "    return bin_im"
   ]
  },
  {
   "cell_type": "markdown",
   "metadata": {
    "id": "-ZT-NaxRFA6O"
   },
   "source": [
    "## Part A"
   ]
  },
  {
   "cell_type": "markdown",
   "metadata": {
    "id": "Y-0-dnXrG8ZR"
   },
   "source": [
    "### Converting the image to binary"
   ]
  },
  {
   "cell_type": "code",
   "execution_count": null,
   "metadata": {
    "colab": {
     "base_uri": "https://localhost:8080/",
     "height": 302
    },
    "id": "oOfhN8yXFyRg",
    "outputId": "f0da2bfd-e8d2-4c6c-d420-2f5755571dff"
   },
   "outputs": [],
   "source": [
    "image = data.camera()\n",
    "print(\"Dimensions of the image are:\", image.shape)\n",
    "plt.imshow(image, cmap='gray')"
   ]
  },
  {
   "cell_type": "code",
   "execution_count": null,
   "metadata": {},
   "outputs": [],
   "source": [
    "gt = image\n",
    "image = image/255"
   ]
  },
  {
   "cell_type": "code",
   "execution_count": null,
   "metadata": {},
   "outputs": [],
   "source": [
    "x, y = image.shape\n",
    "print(\"Nd array of image cameraman : \\n\",image)\n",
    "mean = 0\n",
    "var = 0.01\n",
    "sigma = np.sqrt(var)\n",
    "Gaussian_noise = np.random.normal(loc=mean, scale=sigma, size=(x,y))\n",
    "print(\"Gaussian Noise Nd - array : \\n\", Gaussian_noise)"
   ]
  },
  {
   "cell_type": "markdown",
   "metadata": {},
   "source": [
    "# Adding Gaussian Noise\n"
   ]
  },
  {
   "cell_type": "code",
   "execution_count": null,
   "metadata": {},
   "outputs": [],
   "source": [
    "g = image + Gaussian_noise\n",
    "noisy = g\n",
    "print(\"Noisy Gaussian Array : \\n\")\n",
    "print(noisy)\n",
    "g = g*255\n",
    "plt.imshow(g, cmap='gray')"
   ]
  },
  {
   "cell_type": "code",
   "execution_count": null,
   "metadata": {},
   "outputs": [],
   "source": [
    "plt.figure(figsize=(15,5))\n",
    "plt.subplot(131)\n",
    "plt.title('Gaussian Noisy Image')\n",
    "plt.imshow(g, cmap='gray')\n",
    "plt.subplot(132)\n",
    "plt.title('Actual Image')\n",
    "plt.imshow(gt, cmap='gray')\n",
    "plt.show()"
   ]
  },
  {
   "cell_type": "code",
   "execution_count": null,
   "metadata": {
    "colab": {
     "base_uri": "https://localhost:8080/",
     "height": 286
    },
    "id": "rTOz_t1LGOqQ",
    "outputId": "c4c24f32-eadc-44d4-8b5a-21a0a54a2360"
   },
   "outputs": [],
   "source": [
    "bin_image = binarize_img(gt)\n",
    "plt.imshow(bin_image, cmap='gray')"
   ]
  },
  {
   "cell_type": "markdown",
   "metadata": {},
   "source": [
    "# We try to introduce Some sample of noisy Image's in which we introduce Some percentage of noise on the basis of 0.05 threshold value."
   ]
  },
  {
   "cell_type": "code",
   "execution_count": null,
   "metadata": {
    "colab": {
     "base_uri": "https://localhost:8080/",
     "height": 373
    },
    "id": "brOXxCqMMdQc",
    "outputId": "7d4f82c0-ae1f-4b9c-c6b7-2b7b609bd0b4"
   },
   "outputs": [],
   "source": [
    "fig = plt.figure(figsize=(12, 6))\n",
    "\n",
    "for i in range(0, 5 + 1):\n",
    "    thresh = i/20\n",
    "    noisy_img = add_noise(bin_image, thresh)\n",
    "    plt.subplot(2, 3, i+1)\n",
    "    plt.title(f'Noise: {thresh*100}%')\n",
    "    plt.axis('off')\n",
    "    plt.imshow(noisy_img, cmap='gray')\n",
    "plt.show()"
   ]
  },
  {
   "cell_type": "markdown",
   "metadata": {
    "id": "ln4H983Vv4xc"
   },
   "source": [
    "## Testing"
   ]
  },
  {
   "cell_type": "code",
   "execution_count": null,
   "metadata": {
    "colab": {
     "base_uri": "https://localhost:8080/",
     "height": 1000
    },
    "id": "f4GTzG1CvlLm",
    "outputId": "9b27bd1b-f04c-4c7c-ff7a-17b976083b2b"
   },
   "outputs": [],
   "source": [
    "fig = plt.figure(figsize=(8, 20))\n",
    "\n",
    "for i in range(1, 5 + 1):\n",
    "    thresh = i/20\n",
    "    print(f\"Denoising for noise level: {thresh*100}\")\n",
    "\n",
    "    noisy_img = add_noise(bin_image, thresh)\n",
    "    denoised_img = denoise(noisy_img)\n",
    "\n",
    "    plt.subplot(5, 2, 2*i-1)\n",
    "    plt.title(f'Noise: {thresh*100}%')\n",
    "    plt.axis('off')\n",
    "    plt.imshow(noisy_img, cmap='gray')\n",
    "\n",
    "    plt.subplot(5, 2, 2*i)\n",
    "    plt.title(f'Denoised image ({diff(noisy_img, denoised_img)}%)')\n",
    "    plt.axis('off')\n",
    "    plt.imshow(denoised_img, cmap='gray')\n",
    "\n",
    "    print()\n",
    "plt.show()"
   ]
  },
  {
   "cell_type": "markdown",
   "metadata": {},
   "source": [
    "# Relative Root Mean Squared Error Analysis  "
   ]
  },
  {
   "cell_type": "code",
   "execution_count": null,
   "metadata": {},
   "outputs": [],
   "source": [
    "tensor_convert = ToTensor()\n",
    "noisy = tensor_convert(noisy)[0]\n",
    "gt    = tensor_convert(gt)[0]"
   ]
  },
  {
   "cell_type": "code",
   "execution_count": null,
   "metadata": {},
   "outputs": [],
   "source": [
    "to_tensor = ToTensor()\n",
    "RRMSE = lambda x: (((gt - x)**2).sum() / (gt**2).sum())**0.5\n",
    "X = torch.zeros_like(noisy)\n",
    "X.requires_grad = True\n",
    "errors = []\n",
    "losses = []\n",
    "images = []\n",
    "alpha  = 0.15\n",
    "optimizer = RMSprop([X])\n",
    "n_it   = 100"
   ]
  },
  {
   "cell_type": "code",
   "execution_count": null,
   "metadata": {},
   "outputs": [],
   "source": [
    "for it in range(n_it):\n",
    "    optimizer.zero_grad()\n",
    "    loss = mrf_potential(X, noisy, alpha)\n",
    "    loss.backward()\n",
    "    optimizer.step()\n",
    "    errors.append(RRMSE(X).cpu().detach())\n",
    "    losses.append(loss.item())\n",
    "    images.append(np.array(X.cpu().detach()).astype(np.uint8))"
   ]
  },
  {
   "cell_type": "code",
   "execution_count": null,
   "metadata": {},
   "outputs": [],
   "source": [
    "print(\"RRMSE Initial: {}\".format(RRMSE(noisy)))\n",
    "print(\"RRMSE Final  : {}\".format(errors[-1]))"
   ]
  },
  {
   "cell_type": "code",
   "execution_count": null,
   "metadata": {
    "scrolled": true
   },
   "outputs": [],
   "source": [
    "plt.figure(figsize=(15,5))\n",
    "plt.subplot(121)\n",
    "plt.title('Objective Function')\n",
    "plt.plot(losses)\n",
    "plt.subplot(122)\n",
    "plt.title('RRMSE')\n",
    "plt.plot(errors)\n",
    "plt.show()"
   ]
  },
  {
   "cell_type": "code",
   "execution_count": null,
   "metadata": {},
   "outputs": [],
   "source": [
    "plt.figure(figsize=(15,5))\n",
    "plt.subplot(131)\n",
    "plt.title('Noisy Image')\n",
    "plt.imshow(noisy.cpu(), cmap='gray')\n",
    "plt.subplot(132)\n",
    "plt.title('Denoised Image')\n",
    "plt.imshow(X.detach().cpu(), cmap='gray')\n",
    "plt.subplot(133)\n",
    "plt.title('Ground Truth')\n",
    "plt.imshow(gt.cpu(), cmap='gray')\n",
    "plt.show()"
   ]
  },
  {
   "cell_type": "markdown",
   "metadata": {},
   "source": [
    "Conclusion:\n",
    "1. Initially, when we denoise our noisy image we will train our epochs and for every epoch, we get some objective function loss at every epoch.\n",
    "2. We will be getting a denoised image after energy minimization. and try to compare with ground truth which is our real image we can clearly see some of the noise will be removed by minimization of energy with conditional probability of neighbor node through normalization of the product of minimal click which is our subset of a random variable taken from X.\n"
   ]
  }
 ],
 "metadata": {
  "colab": {
   "provenance": []
  },
  "kernelspec": {
   "display_name": "Python 3 (ipykernel)",
   "language": "python",
   "name": "python3"
  },
  "language_info": {
   "codemirror_mode": {
    "name": "ipython",
    "version": 3
   },
   "file_extension": ".py",
   "mimetype": "text/x-python",
   "name": "python",
   "nbconvert_exporter": "python",
   "pygments_lexer": "ipython3",
   "version": "3.10.5"
  }
 },
 "nbformat": 4,
 "nbformat_minor": 1
}
